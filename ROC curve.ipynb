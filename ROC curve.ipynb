{
 "cells": [
  {
   "cell_type": "markdown",
   "metadata": {},
   "source": [
    "In biometric identification system, we always deal with genuine and imposter scores. Here genuine and imposter are set of matched and non-matched \n",
    "score when we compare multiple items with one another. If we search a face image A in a database containing four other images (B, C, D and E) and find that, C and D are similar to A with matching score 0.7 and 0.8 then these are genuine scores. On the contrary the matching scores for B and E will be imposter score. I will write a small python code to draw the ROC curve using genuine and imposter score."
   ]
  },
  {
   "cell_type": "code",
   "execution_count": 1,
   "metadata": {
    "collapsed": false
   },
   "outputs": [
    {
     "name": "stderr",
     "output_type": "stream",
     "text": [
      "/usr/local/lib/python2.7/dist-packages/IPython/html.py:14: ShimWarning: The `IPython.html` package has been deprecated. You should import from `notebook` instead. `IPython.html.widgets` has moved to `ipywidgets`.\n",
      "  \"`IPython.html.widgets` has moved to `ipywidgets`.\", ShimWarning)\n"
     ]
    }
   ],
   "source": [
    "import numpy as np\n",
    "import seaborn as sns\n",
    "%matplotlib inline"
   ]
  },
  {
   "cell_type": "code",
   "execution_count": 14,
   "metadata": {
    "collapsed": false
   },
   "outputs": [],
   "source": [
    "# using some randome score as genuine and imposter\n",
    "genuine_score = np.random.uniform(0.5,1,[50, 1]) \n",
    "imposter_score = np.random.uniform(0.1, 0.6, [500, 1])"
   ]
  },
  {
   "cell_type": "code",
   "execution_count": 11,
   "metadata": {
    "collapsed": false
   },
   "outputs": [],
   "source": [
    "x, y =  [], []\n",
    "for threshold in np.arange(0, 1, .01):\n",
    "    true_positive = (genuine_score >= threshold).sum()\n",
    "    true_negative = (imposter_score <= threshold).sum()\n",
    "    false_positive = (genuine_score < threshold).sum()\n",
    "    false_negative = (imposter_score > threshold).sum()\n",
    "    \n",
    "    if(true_positive + false_negative > 0 and false_positive + true_negative > 0):\n",
    "        true_positive_rate = true_positive/float(true_positive + false_negative)\n",
    "        false_positive_rate = false_positive/float(true_negative+false_positive)\n",
    "        \n",
    "        x.append(false_positive_rate)\n",
    "        y.append(true_positive_rate)\n",
    "    \n",
    "    "
   ]
  },
  {
   "cell_type": "code",
   "execution_count": 13,
   "metadata": {
    "collapsed": false
   },
   "outputs": [
    {
     "data": {
      "text/plain": [
       "<matplotlib.text.Text at 0x7fd1333c0790>"
      ]
     },
     "execution_count": 13,
     "metadata": {},
     "output_type": "execute_result"
    },
    {
     "data": {
      "image/png": "[encoded data removed]",
      "text/plain": [
       "<matplotlib.figure.Figure at 0x7fd133516910>"
      ]
     },
     "metadata": {},
     "output_type": "display_data"
    }
   ],
   "source": [
    "sns.plt.plot(x, y)\n",
    "sns.plt.xlabel(\"false positive rate\")\n",
    "sns.plt.ylabel(\"true positive rate\")\n",
    "sns.plt.title(\"roc curve\")"
   ]
  },
  {
   "cell_type": "code",
   "execution_count": null,
   "metadata": {
    "collapsed": true
   },
   "outputs": [],
   "source": []
  }
 ],
 "metadata": {
  "kernelspec": {
   "display_name": "Python 2",
   "language": "python",
   "name": "python2"
  },
  "language_info": {
   "codemirror_mode": {
    "name": "ipython",
    "version": 2
   },
   "file_extension": ".py",
   "mimetype": "text/x-python",
   "name": "python",
   "nbconvert_exporter": "python",
   "pygments_lexer": "ipython2",
   "version": "2.7.6"
  }
 },
 "nbformat": 4,
 "nbformat_minor": 1
}
